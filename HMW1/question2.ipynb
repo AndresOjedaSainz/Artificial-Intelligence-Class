{
 "cells": [
  {
   "cell_type": "code",
   "execution_count": null,
   "id": "676f0bac",
   "metadata": {},
   "outputs": [],
   "source": [
    "# Import Libraries\n",
    "import numpy as np\n",
    "import copy\n",
    "import matplotlib.pyplot as plt\n",
    "import pandas as pd"
   ]
  },
  {
   "cell_type": "code",
   "execution_count": null,
   "id": "6fda5bd6",
   "metadata": {},
   "outputs": [
    {
     "name": "stdout",
     "output_type": "stream",
     "text": [
      "   time  jiggle  scroll  sales\n",
      "0   232      33     402   2201\n",
      "1    10      22     160      0\n",
      "2  6437     343     231   7650\n",
      "3   512     101      17   5599\n",
      "4   441     212      55   8900\n"
     ]
    }
   ],
   "source": [
    "# Read CSV file into DataFrame\n",
    "df = pd.read_csv('table.csv')\n",
    "print(df.head())"
   ]
  },
  {
   "cell_type": "code",
   "execution_count": null,
   "id": "ed9481f2",
   "metadata": {},
   "outputs": [],
   "source": [
    "# Initialize feature matrix X and target vector y\n",
    "X = df.iloc[:, :3].values\n",
    "y = df.iloc[:, 3].values"
   ]
  },
  {
   "cell_type": "code",
   "execution_count": null,
   "id": "6d382143",
   "metadata": {},
   "outputs": [],
   "source": [
    "# Create a column of ones for the intercept term\n",
    "column_ones = np.ones((X.shape[0], 1))\n",
    "X = np.hstack((column_ones, X))\n",
    "\n",
    "# Normal equation: θ = (X^T X)^(-1) X^T y\n",
    "theta = np.linalg.inv(X.T.dot(X)).dot(X.T).dot(y)"
   ]
  },
  {
   "cell_type": "code",
   "execution_count": null,
   "id": "06ba6e41",
   "metadata": {},
   "outputs": [],
   "source": [
    "# Hypothesis function\n",
    "def hypothesis(X, theta):\n",
    "    return X.dot(theta)\n",
    "\n",
    "    # Derivative of J(0) = (X.dot(X.T) - y.T)(X.dot(X.T) - y)\n",
    "    # Final Result = θ = (X^T X)^(-1) X^T y"
   ]
  },
  {
   "cell_type": "code",
   "execution_count": 24,
   "id": "0642a45f",
   "metadata": {},
   "outputs": [
    {
     "name": "stdout",
     "output_type": "stream",
     "text": [
      "Learned parameters (theta):\n",
      "θ₀ (intercept): 2626.268614\n",
      "θ₁ (time): 0.420484\n",
      "θ₂ (jiggle): 12.716237\n",
      "θ₃ (scroll): -6.496562\n"
     ]
    }
   ],
   "source": [
    "print(\"Learned parameters (theta):\")\n",
    "print(f\"θ₀ (intercept): {theta[0]:.6f}\")\n",
    "print(f\"θ₁ (time): {theta[1]:.6f}\")\n",
    "print(f\"θ₂ (jiggle): {theta[2]:.6f}\")\n",
    "print(f\"θ₃ (scroll): {theta[3]:.6f}\")"
   ]
  },
  {
   "cell_type": "markdown",
   "id": "7f716865",
   "metadata": {},
   "source": [
    "## Problem 2: Normal Equation Derivation\n",
    "\n",
    "### Linear Regression Model\n",
    "The linear regression model can be written in matrix form as:\n",
    "\n",
    "$$y = X\\theta + \\varepsilon$$\n",
    "\n",
    "Where:\n",
    "- y is the (11×1) vector of sales values\n",
    "- X is the (11×4) design matrix with columns [1, time, jiggle, scroll]  \n",
    "- θ is the (4×1) parameter vector [θ₀, θ₁, θ₂, θ₃]\n",
    "- ε is the error term\n",
    "\n",
    "### Mean Squared Error (MSE) Objective Function\n",
    "We want to minimize the sum of squared residuals:\n",
    "\n",
    "$$J(\\theta) = \\frac{1}{2m} ||X\\theta - y||^2$$\n",
    "\n",
    "Expanding this:\n",
    "\n",
    "$$J(\\theta) = \\frac{1}{2m} (X\\theta - y)^T(X\\theta - y)$$\n",
    "\n",
    "### Deriving the Normal Equation\n",
    "To find the minimum, we take the derivative with respect to θ and set it to zero:\n",
    "\n",
    "$$\\frac{\\partial J(\\theta)}{\\partial \\theta} = \\frac{1}{m} X^T(X\\theta - y) = 0$$\n",
    "\n",
    "Solving for θ:\n",
    "\n",
    "$$X^T(X\\theta - y) = 0$$\n",
    "\n",
    "$$X^TX\\theta - X^Ty = 0$$\n",
    "\n",
    "$$X^TX\\theta = X^Ty$$\n",
    "\n",
    "**Normal Equation:**\n",
    "\n",
    "$$\\theta = (X^TX)^{-1}X^Ty$$\n",
    "\n",
    "This gives us the closed-form analytical solution for the optimal parameters.\n",
    "\n",
    "### Design Matrix Construction\n",
    "For our dongles dataset, the design matrix X has the structure where the first column is all ones for the intercept term."
   ]
  },
  {
   "cell_type": "code",
   "execution_count": 25,
   "id": "9f0399a5",
   "metadata": {},
   "outputs": [
    {
     "name": "stdout",
     "output_type": "stream",
     "text": [
      "Linear model: sales = 2626.268614 + 0.420484*time + 12.716237*jiggle + -6.496562*scroll\n"
     ]
    }
   ],
   "source": [
    "print(f\"Linear model: sales = {theta[0]:.6f} + {theta[1]:.6f}*time + {theta[2]:.6f}*jiggle + {theta[3]:.6f}*scroll\")"
   ]
  }
 ],
 "metadata": {
  "kernelspec": {
   "display_name": "base",
   "language": "python",
   "name": "python3"
  },
  "language_info": {
   "codemirror_mode": {
    "name": "ipython",
    "version": 3
   },
   "file_extension": ".py",
   "mimetype": "text/x-python",
   "name": "python",
   "nbconvert_exporter": "python",
   "pygments_lexer": "ipython3",
   "version": "3.12.7"
  }
 },
 "nbformat": 4,
 "nbformat_minor": 5
}
