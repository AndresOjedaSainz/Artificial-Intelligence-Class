{
 "cells": [
  {
   "cell_type": "markdown",
   "id": "f0381032",
   "metadata": {},
   "source": [
    "Cell bellow is for importing librarys or methods in order to complete assignment.\n",
    "\n",
    "import numpy as np : Library for numerical computing.\n",
    "\n",
    "import copy: Used to copy parameters without modifying orginal parameter.\n",
    "\n",
    "import matplotlib.pyplot as plt: Plotting Library\n",
    "\n",
    "\n",
    "import pandas as pd: Library for data manipulation\n",
    "\n",
    "from math import sqrt: Imports square root math function"
   ]
  },
  {
   "cell_type": "code",
   "execution_count": null,
   "id": "f49d9510",
   "metadata": {},
   "outputs": [],
   "source": [
    "import numpy as np\n",
    "import copy\n",
    "import matplotlib.pyplot as plt\n",
    "import pandas as pd\n",
    "from math import sqrt"
   ]
  },
  {
   "cell_type": "code",
   "execution_count": null,
   "id": "9eca750f",
   "metadata": {},
   "outputs": [
    {
     "name": "stdout",
     "output_type": "stream",
     "text": [
      "        0.0  3.4399999999999999  0.44000000000000039  4.387545011044053\n",
      "0  0.040404            0.134949             0.888485           2.679650\n",
      "1  0.080808            0.829899             1.336970           2.968490\n",
      "2  0.121212            1.524848             1.785455           3.254065\n",
      "3  0.161616            2.219798             2.233939           3.536375\n",
      "4  0.202020            2.914747             2.682424           3.815420\n"
     ]
    }
   ],
   "source": [
    "# Reads dataset\n",
    "df = pd.read_csv('D3.csv')\n",
    "print(df.head())"
   ]
  },
  {
   "cell_type": "code",
   "execution_count": null,
   "id": "9d40a637",
   "metadata": {},
   "outputs": [],
   "source": [
    "#Intilization of X(Input) and y(Output Targets)\n",
    "X = df.iloc[:, :3].values\n",
    "y = df.iloc[:, 3].values"
   ]
  },
  {
   "cell_type": "code",
   "execution_count": null,
   "id": "e36629ea",
   "metadata": {},
   "outputs": [],
   "source": [
    "# Normalization function, standardize features into range of 0 to 1\n",
    "def standardize(X):\n",
    "    mean = np.mean(X, axis = 0)\n",
    "    std = np.sqrt((1/X.shape[0]) * np.sum((X - mean)**2, axis = 0))\n",
    "    X_standardized = (X - mean) / std\n",
    "    return X_standardized, mean, std"
   ]
  },
  {
   "cell_type": "code",
   "execution_count": 272,
   "id": "8f344cc5",
   "metadata": {},
   "outputs": [],
   "source": [
    "X_standardized, mean, std = standardize(X)"
   ]
  },
  {
   "cell_type": "code",
   "execution_count": null,
   "id": "5ca4129e",
   "metadata": {},
   "outputs": [],
   "source": [
    "# Initialize parameters w(weights) and b(bias) to zeros\n",
    "def initialize_with_zeros(dim):\n",
    "    w = np.zeros((dim))\n",
    "    b = 0.0\n",
    "    return w, b"
   ]
  },
  {
   "cell_type": "code",
   "execution_count": null,
   "id": "a010136a",
   "metadata": {},
   "outputs": [],
   "source": [
    "#S et dimensions for weights and bias\n",
    "dim = 3\n",
    "w, b = initialize_with_zeros(dim)"
   ]
  },
  {
   "cell_type": "code",
   "execution_count": null,
   "id": "af942ee2",
   "metadata": {},
   "outputs": [],
   "source": [
    "# Prediction and cost function\n",
    "def pred_cost(w,b,X,y):\n",
    "    m = X.shape[0]\n",
    "    \n",
    "    Z = np.dot(X,w) + b\n",
    "    A = Z\n",
    "    \n",
    "    cost = (1/(2*m)) * np.sum((A - y)**2)\n",
    "    \n",
    "    return cost"
   ]
  },
  {
   "cell_type": "code",
   "execution_count": null,
   "id": "fb2bf03a",
   "metadata": {},
   "outputs": [],
   "source": [
    "# Gradient computation\n",
    "def compute_gradients(w, b, X, y):\n",
    "    m = X.shape[0]\n",
    "    \n",
    "    Z = np.dot(X,w) + b\n",
    "    A = Z\n",
    "    \n",
    "    dw = (1/m) * np.dot(X.T, (A - y))\n",
    "    db = (1/m) * np.sum(A - y)\n",
    "    \n",
    "    return dw, db"
   ]
  },
  {
   "cell_type": "code",
   "execution_count": null,
   "id": "9907c2f8",
   "metadata": {},
   "outputs": [],
   "source": [
    "# Prediction function\n",
    "def predict(w, b, X):\n",
    "    return np.dot(X, w) + b"
   ]
  },
  {
   "cell_type": "code",
   "execution_count": null,
   "id": "c32e1ce2",
   "metadata": {},
   "outputs": [],
   "source": [
    "# Gradient Descent algorithm\n",
    "def gradient_descent(w, b, X, y, num_iterations=1000, learning_rate=0.01, print_cost=True):\n",
    "    w = copy.deepcopy(w)\n",
    "    b = copy.deepcopy(b)\n",
    "    cost_history = []\n",
    "\n",
    "    for i in range(num_iterations):\n",
    "        dw, db = compute_gradients(w, b, X, y)\n",
    "\n",
    "        w = w - learning_rate * dw\n",
    "        b = b - learning_rate * db\n",
    "\n",
    "        cost = pred_cost(w, b, X, y)\n",
    "        cost_history.append(cost)\n",
    "\n",
    "        if print_cost and i % 100 == 0:\n",
    "            print(f\"Cost after iteration {i}: {cost}\")\n",
    "    \n",
    "    return w, b, cost_history"
   ]
  },
  {
   "cell_type": "code",
   "execution_count": null,
   "id": "64efcef0",
   "metadata": {},
   "outputs": [
    {
     "name": "stdout",
     "output_type": "stream",
     "text": [
      "Cost after iteration 0: 4.560206806716216\n",
      "Cost after iteration 100: 0.708187872075954\n",
      "Cost after iteration 200: 0.7081878651133591\n",
      "Cost after iteration 300: 0.708187865113359\n",
      "Cost after iteration 400: 0.7081878651133587\n",
      "Cost after iteration 500: 0.7081878651133587\n",
      "Cost after iteration 600: 0.7081878651133587\n",
      "Cost after iteration 700: 0.7081878651133587\n",
      "Cost after iteration 800: 0.7081878651133587\n",
      "Cost after iteration 900: 0.7081878651133587\n",
      "Cost after iteration 1000: 0.7081878651133587\n",
      "Cost after iteration 1100: 0.7081878651133587\n",
      "Cost after iteration 1200: 0.7081878651133587\n",
      "Cost after iteration 1300: 0.7081878651133587\n",
      "Cost after iteration 1400: 0.7081878651133587\n",
      "Cost after iteration 1500: 0.7081878651133587\n",
      "Cost after iteration 1600: 0.7081878651133587\n",
      "Cost after iteration 1700: 0.7081878651133587\n",
      "Cost after iteration 1800: 0.7081878651133587\n",
      "Cost after iteration 1900: 0.7081878651133587\n",
      "Cost after iteration 2000: 0.7081878651133587\n",
      "Cost after iteration 2100: 0.7081878651133587\n",
      "Cost after iteration 2200: 0.7081878651133587\n",
      "Cost after iteration 2300: 0.7081878651133587\n",
      "Cost after iteration 2400: 0.7081878651133587\n",
      "Cost after iteration 2500: 0.7081878651133587\n",
      "Cost after iteration 2600: 0.7081878651133587\n",
      "Cost after iteration 2700: 0.7081878651133587\n",
      "Cost after iteration 2800: 0.7081878651133587\n",
      "Cost after iteration 2900: 0.7081878651133587\n",
      "Cost after iteration 3000: 0.7081878651133587\n",
      "Cost after iteration 3100: 0.7081878651133587\n",
      "Cost after iteration 3200: 0.7081878651133587\n",
      "Cost after iteration 3300: 0.7081878651133587\n",
      "Cost after iteration 3400: 0.7081878651133587\n",
      "Cost after iteration 3500: 0.7081878651133587\n",
      "Cost after iteration 3600: 0.7081878651133587\n",
      "Cost after iteration 3700: 0.7081878651133587\n",
      "Cost after iteration 3800: 0.7081878651133587\n",
      "Cost after iteration 3900: 0.7081878651133587\n",
      "Cost after iteration 4000: 0.7081878651133587\n",
      "Cost after iteration 4100: 0.7081878651133587\n",
      "Cost after iteration 4200: 0.7081878651133587\n",
      "Cost after iteration 4300: 0.7081878651133587\n",
      "Cost after iteration 4400: 0.7081878651133587\n",
      "Cost after iteration 4500: 0.7081878651133587\n",
      "Cost after iteration 4600: 0.7081878651133587\n",
      "Cost after iteration 4700: 0.7081878651133587\n",
      "Cost after iteration 4800: 0.7081878651133587\n",
      "Cost after iteration 4900: 0.7081878651133587\n",
      "Cost after iteration 5000: 0.7081878651133587\n",
      "Cost after iteration 5100: 0.7081878651133587\n",
      "Cost after iteration 5200: 0.7081878651133587\n",
      "Cost after iteration 5300: 0.7081878651133587\n",
      "Cost after iteration 5400: 0.7081878651133587\n",
      "Cost after iteration 5500: 0.7081878651133587\n",
      "Cost after iteration 5600: 0.7081878651133587\n",
      "Cost after iteration 5700: 0.7081878651133587\n",
      "Cost after iteration 5800: 0.7081878651133587\n",
      "Cost after iteration 5900: 0.7081878651133587\n",
      "Cost after iteration 6000: 0.7081878651133587\n",
      "Cost after iteration 6100: 0.7081878651133587\n",
      "Cost after iteration 6200: 0.7081878651133587\n",
      "Cost after iteration 6300: 0.7081878651133587\n",
      "Cost after iteration 6400: 0.7081878651133587\n",
      "Cost after iteration 6500: 0.7081878651133587\n",
      "Cost after iteration 6600: 0.7081878651133587\n",
      "Cost after iteration 6700: 0.7081878651133587\n",
      "Cost after iteration 6800: 0.7081878651133587\n",
      "Cost after iteration 6900: 0.7081878651133587\n",
      "Cost after iteration 7000: 0.7081878651133587\n",
      "Cost after iteration 7100: 0.7081878651133587\n",
      "Cost after iteration 7200: 0.7081878651133587\n",
      "Cost after iteration 7300: 0.7081878651133587\n",
      "Cost after iteration 7400: 0.7081878651133587\n",
      "Cost after iteration 7500: 0.7081878651133587\n",
      "Cost after iteration 7600: 0.7081878651133587\n",
      "Cost after iteration 7700: 0.7081878651133587\n",
      "Cost after iteration 7800: 0.7081878651133587\n",
      "Cost after iteration 7900: 0.7081878651133587\n",
      "Cost after iteration 8000: 0.7081878651133587\n",
      "Cost after iteration 8100: 0.7081878651133587\n",
      "Cost after iteration 8200: 0.7081878651133587\n",
      "Cost after iteration 8300: 0.7081878651133587\n",
      "Cost after iteration 8400: 0.7081878651133587\n",
      "Cost after iteration 8500: 0.7081878651133587\n",
      "Cost after iteration 8600: 0.7081878651133587\n",
      "Cost after iteration 8700: 0.7081878651133587\n",
      "Cost after iteration 8800: 0.7081878651133587\n",
      "Cost after iteration 8900: 0.7081878651133587\n",
      "Cost after iteration 9000: 0.7081878651133587\n",
      "Cost after iteration 9100: 0.7081878651133587\n",
      "Cost after iteration 9200: 0.7081878651133587\n",
      "Cost after iteration 9300: 0.7081878651133587\n",
      "Cost after iteration 9400: 0.7081878651133587\n",
      "Cost after iteration 9500: 0.7081878651133587\n",
      "Cost after iteration 9600: 0.7081878651133587\n",
      "Cost after iteration 9700: 0.7081878651133587\n",
      "Cost after iteration 9800: 0.7081878651133587\n",
      "Cost after iteration 9900: 0.7081878651133587\n"
     ]
    }
   ],
   "source": [
    "# Running Gradient Descent and printing cost every 100 iterations\n",
    "w, b, cost_history = gradient_descent(w, b, X_standardized, y, num_iterations=10000, learning_rate=0.1, print_cost=True)"
   ]
  },
  {
   "cell_type": "code",
   "execution_count": null,
   "id": "553a9ffd",
   "metadata": {},
   "outputs": [
    {
     "data": {
      "image/png": "[encoded data removed]",
      "text/plain": [
       "<Figure size 640x480 with 1 Axes>"
      ]
     },
     "metadata": {},
     "output_type": "display_data"
    }
   ],
   "source": [
    "# Plotting the cost function over iterations\n",
    "import matplotlib.pyplot as plt\n",
    "plt.plot(cost_history)\n",
    "plt.xlabel('Iteration')\n",
    "plt.ylabel('Cost')\n",
    "plt.title('Cost Function over Iterations')\n",
    "plt.show()"
   ]
  },
  {
   "cell_type": "code",
   "execution_count": null,
   "id": "a5b33662",
   "metadata": {},
   "outputs": [
    {
     "name": "stdout",
     "output_type": "stream",
     "text": [
      "Predictions: [3.64081089 0.1611724  0.11797162]\n"
     ]
    }
   ],
   "source": [
    "# Making predictions on new test cases\n",
    "test_cases = np.array([[1, 1, 1], [2, 0, 4], [3, 2, 1]])\n",
    "\n",
    "test_cases_standardized = (test_cases - mean) / std\n",
    "\n",
    "predictions = predict(w, b, test_cases_standardized)\n",
    "\n",
    "print(\"Predictions:\", predictions.flatten())"
   ]
  }
 ],
 "metadata": {
  "kernelspec": {
   "display_name": "base",
   "language": "python",
   "name": "python3"
  },
  "language_info": {
   "codemirror_mode": {
    "name": "ipython",
    "version": 3
   },
   "file_extension": ".py",
   "mimetype": "text/x-python",
   "name": "python",
   "nbconvert_exporter": "python",
   "pygments_lexer": "ipython3",
   "version": "3.12.7"
  }
 },
 "nbformat": 4,
 "nbformat_minor": 5
}
