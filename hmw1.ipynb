{
 "cells": [
  {
   "cell_type": "markdown",
   "id": "f0381032",
   "metadata": {},
   "source": [
    "Cell bellow is for importing librarys or methods in order to complete assignment.\n",
    "\n",
    "import numpy as np : Library for numerical computing.\n",
    "\n",
    "import copy: Used to copy parameters without modifying orginal parameter.\n",
    "\n",
    "import matplotlib.pyplot as plt: Plotting Library\n",
    "\n",
    "\n",
    "import pandas as pd: Library for data manipulation\n",
    "\n",
    "from math import sqrt: Imports square root math function"
   ]
  },
  {
   "cell_type": "code",
   "execution_count": 33,
   "id": "f49d9510",
   "metadata": {},
   "outputs": [],
   "source": [
    "import numpy as np\n",
    "import copy\n",
    "import matplotlib.pyplot as plt\n",
    "import pandas as pd\n",
    "from math import sqrt"
   ]
  },
  {
   "cell_type": "code",
   "execution_count": 34,
   "id": "9eca750f",
   "metadata": {},
   "outputs": [
    {
     "name": "stdout",
     "output_type": "stream",
     "text": [
      "        0.0  3.4399999999999999  0.44000000000000039  4.387545011044053\n",
      "0  0.040404            0.134949             0.888485           2.679650\n",
      "1  0.080808            0.829899             1.336970           2.968490\n",
      "2  0.121212            1.524848             1.785455           3.254065\n",
      "3  0.161616            2.219798             2.233939           3.536375\n",
      "4  0.202020            2.914747             2.682424           3.815420\n"
     ]
    }
   ],
   "source": [
    "# Reads dataset\n",
    "df = pd.read_csv('D3.csv')\n",
    "print(df.head())"
   ]
  },
  {
   "cell_type": "code",
   "execution_count": 35,
   "id": "9d40a637",
   "metadata": {},
   "outputs": [],
   "source": [
    "#Intilization of X(Input) and y(Output Targets)\n",
    "X = df.iloc[:, :3].values\n",
    "y = df.iloc[:, 3].values"
   ]
  },
  {
   "cell_type": "code",
   "execution_count": 36,
   "id": "e36629ea",
   "metadata": {},
   "outputs": [],
   "source": [
    "# Normalization function, standardize features into range of 0 to 1\n",
    "def standardize(X):\n",
    "    mean = np.mean(X, axis = 0)\n",
    "    std = np.sqrt((1/X.shape[0]) * np.sum((X - mean)**2, axis = 0))\n",
    "    X_standardized = (X - mean) / std\n",
    "    return X_standardized, mean, std"
   ]
  },
  {
   "cell_type": "code",
   "execution_count": 37,
   "id": "8f344cc5",
   "metadata": {},
   "outputs": [],
   "source": [
    "X_standardized, mean, std = standardize(X)"
   ]
  },
  {
   "cell_type": "markdown",
   "id": "b564f0a3",
   "metadata": {},
   "source": [
    "## Why Feature Scaling Helps Gradient Descent\n",
    "\n",
    "Feature scaling (standardization) is crucial for gradient descent convergence. The diagrams below illustrate this concept:\n",
    "\n",
    "![Unnormalized vs Normalized Features](IMG_0083.jpg)\n",
    "\n",
    "![Cost Function Contours](IMG_0084.jpg)"
   ]
  },
  {
   "cell_type": "code",
   "execution_count": 38,
   "id": "5ca4129e",
   "metadata": {},
   "outputs": [],
   "source": [
    "# Initialize parameters w(weights) and b(bias) to zeros\n",
    "def initialize_with_zeros(dim):\n",
    "    w = np.zeros((dim))\n",
    "    b = 0.0\n",
    "    return w, b"
   ]
  },
  {
   "cell_type": "code",
   "execution_count": 39,
   "id": "a010136a",
   "metadata": {},
   "outputs": [],
   "source": [
    "#S et dimensions for weights and bias\n",
    "dim = 3\n",
    "w, b = initialize_with_zeros(dim)"
   ]
  },
  {
   "cell_type": "code",
   "execution_count": 40,
   "id": "af942ee2",
   "metadata": {},
   "outputs": [],
   "source": [
    "# Prediction and cost function\n",
    "def pred_cost(w,b,X,y):\n",
    "    m = X.shape[0]\n",
    "    \n",
    "    Z = np.dot(X,w) + b\n",
    "    A = Z\n",
    "    \n",
    "    # Cost function J(θ) = J(θ) = (1/2m) * Σ(hθ(x) - y)²\n",
    "    cost = (1/(2*m)) * np.sum((A - y)**2)\n",
    "    \n",
    "    return cost"
   ]
  },
  {
   "cell_type": "code",
   "execution_count": 41,
   "id": "fb2bf03a",
   "metadata": {},
   "outputs": [],
   "source": [
    "# Gradient computation\n",
    "def compute_gradients(w, b, X, y):\n",
    "    m = X.shape[0]\n",
    "    \n",
    "    Z = np.dot(X,w) + b\n",
    "    A = Z\n",
    "    \n",
    "    dw = (1/m) * np.dot(X.T, (A - y))\n",
    "    db = (1/m) * np.sum(A - y)\n",
    "    \n",
    "    return dw, db"
   ]
  },
  {
   "cell_type": "code",
   "execution_count": 42,
   "id": "9907c2f8",
   "metadata": {},
   "outputs": [],
   "source": [
    "# Prediction function\n",
    "def predict(w, b, X):\n",
    "    return np.dot(X, w) + b"
   ]
  },
  {
   "cell_type": "code",
   "execution_count": 43,
   "id": "c32e1ce2",
   "metadata": {},
   "outputs": [],
   "source": [
    "# Gradient Descent algorithm\n",
    "def gradient_descent(w, b, X, y, num_iterations=10000, learning_rate=0.001, print_cost=True):\n",
    "    w = copy.deepcopy(w)\n",
    "    b = copy.deepcopy(b)\n",
    "    cost_history = []\n",
    "\n",
    "    for i in range(num_iterations):\n",
    "        dw, db = compute_gradients(w, b, X, y)\n",
    "\n",
    "        # Gradient update rule - θ := θ - α∇J(θ)\n",
    "        w = w - learning_rate * dw\n",
    "        b = b - learning_rate * db\n",
    "\n",
    "        cost = pred_cost(w, b, X, y)\n",
    "        cost_history.append(cost)\n",
    "\n",
    "        if print_cost and i % 100 == 0:\n",
    "            print(f\"Cost after iteration {i}: {cost}\")\n",
    "    \n",
    "    return w, b, cost_history"
   ]
  },
  {
   "cell_type": "code",
   "execution_count": 44,
   "id": "64efcef0",
   "metadata": {},
   "outputs": [
    {
     "name": "stdout",
     "output_type": "stream",
     "text": [
      "Cost after iteration 0: 5.4732946398591436\n",
      "Cost after iteration 100: 4.595192049785151\n",
      "Cost after iteration 200: 3.8796573041161615\n",
      "Cost after iteration 300: 3.296459304057246\n",
      "Cost after iteration 400: 2.8210125402623243\n",
      "Cost after iteration 500: 2.4333185653233658\n",
      "Cost after iteration 600: 2.1171066854741096\n",
      "Cost after iteration 700: 1.8591362449597504\n",
      "Cost after iteration 800: 1.648630006535855\n",
      "Cost after iteration 900: 1.4768139063211896\n",
      "Cost after iteration 1000: 1.3365431390768994\n",
      "Cost after iteration 1100: 1.2219983198813822\n",
      "Cost after iteration 1200: 1.1284385391643825\n",
      "Cost after iteration 1300: 1.0520006169324372\n",
      "Cost after iteration 1400: 0.9895358794421951\n",
      "Cost after iteration 1500: 0.9384774171365371\n",
      "Cost after iteration 1600: 0.8967321088590945\n",
      "Cost after iteration 1700: 0.8625927729062566\n",
      "Cost after iteration 1800: 0.8346666778909784\n",
      "Cost after iteration 1900: 0.8118173541690674\n",
      "Cost after iteration 2000: 0.7931172208901933\n",
      "Cost after iteration 2100: 0.7778090098353072\n",
      "Cost after iteration 2200: 0.7652743455493111\n",
      "Cost after iteration 2300: 0.7550081484513655\n",
      "Cost after iteration 2400: 0.7465977770418188\n",
      "Cost after iteration 2500: 0.7397060279156392\n",
      "Cost after iteration 2600: 0.7340572768675251\n",
      "Cost after iteration 2700: 0.7294261780934684\n",
      "Cost after iteration 2800: 0.7256284471641232\n",
      "Cost after iteration 2900: 0.7225133417770829\n",
      "Cost after iteration 3000: 0.7199575261093414\n",
      "Cost after iteration 3100: 0.7178600629885585\n",
      "Cost after iteration 3200: 0.7161383255987936\n",
      "Cost after iteration 3300: 0.7147246590758654\n",
      "Cost after iteration 3400: 0.7135636537879515\n",
      "Cost after iteration 3500: 0.712609917685192\n",
      "Cost after iteration 3600: 0.7118262559318065\n",
      "Cost after iteration 3700: 0.7111821829941244\n",
      "Cost after iteration 3800: 0.7106527061699863\n",
      "Cost after iteration 3900: 0.7102173307959515\n",
      "Cost after iteration 4000: 0.7098592465355837\n",
      "Cost after iteration 4100: 0.7095646616225348\n",
      "Cost after iteration 4200: 0.7093222580215184\n",
      "Cost after iteration 4300: 0.7091227454350392\n",
      "Cost after iteration 4400: 0.7089584961325196\n",
      "Cost after iteration 4500: 0.7088232458810335\n",
      "Cost after iteration 4600: 0.7087118489513675\n",
      "Cost after iteration 4700: 0.7086200773720578\n",
      "Cost after iteration 4800: 0.7085444563989622\n",
      "Cost after iteration 4900: 0.7084821296334148\n",
      "Cost after iteration 5000: 0.7084307484188003\n",
      "Cost after iteration 5100: 0.708388381123007\n",
      "Cost after iteration 5200: 0.7083534387129602\n",
      "Cost after iteration 5300: 0.7083246136802374\n",
      "Cost after iteration 5400: 0.7083008299103717\n",
      "Cost after iteration 5500: 0.7082812015247633\n",
      "Cost after iteration 5600: 0.7082649990809606\n",
      "Cost after iteration 5700: 0.7082516218089696\n",
      "Cost after iteration 5800: 0.7082405748001096\n",
      "Cost after iteration 5900: 0.7082314502604263\n",
      "Cost after iteration 6000: 0.7082239121006985\n",
      "Cost after iteration 6100: 0.7082176832661405\n",
      "Cost after iteration 6200: 0.7082125353162171\n",
      "Cost after iteration 6300: 0.7082082798529391\n",
      "Cost after iteration 6400: 0.7082047614680625\n",
      "Cost after iteration 6500: 0.7082018519386715\n",
      "Cost after iteration 6600: 0.7081994454490619\n",
      "Cost after iteration 6700: 0.7081974546565467\n",
      "Cost after iteration 6800: 0.7081958074513802\n",
      "Cost after iteration 6900: 0.7081944442877256\n",
      "Cost after iteration 7000: 0.7081933159845231\n",
      "Cost after iteration 7100: 0.7081923819131212\n",
      "Cost after iteration 7200: 0.7081916085033176\n",
      "Cost after iteration 7300: 0.7081909680115946\n",
      "Cost after iteration 7400: 0.7081904375053112\n",
      "Cost after iteration 7500: 0.7081899980248064\n",
      "Cost after iteration 7600: 0.7081896338921072\n",
      "Cost after iteration 7700: 0.7081893321404636\n",
      "Cost after iteration 7800: 0.7081890820434971\n",
      "Cost after iteration 7900: 0.7081888747264854\n",
      "Cost after iteration 8000: 0.7081887028453879\n",
      "Cost after iteration 8100: 0.7081885603217531\n",
      "Cost after iteration 8200: 0.7081884421237367\n",
      "Cost after iteration 8300: 0.7081883440851686\n",
      "Cost after iteration 8400: 0.7081882627560343\n",
      "Cost after iteration 8500: 0.7081881952788869\n",
      "Cost after iteration 8600: 0.7081881392866751\n",
      "Cost after iteration 8700: 0.7081880928182624\n",
      "Cost after iteration 8800: 0.7081880542485545\n",
      "Cost after iteration 8900: 0.7081880222307063\n",
      "Cost after iteration 9000: 0.7081879956483049\n",
      "Cost after iteration 9100: 0.7081879735758025\n",
      "Cost after iteration 9200: 0.7081879552457697\n",
      "Cost after iteration 9300: 0.7081879400217883\n",
      "Cost after iteration 9400: 0.7081879273760083\n",
      "Cost after iteration 9500: 0.7081879168705637\n",
      "Cost after iteration 9600: 0.7081879081421822\n",
      "Cost after iteration 9700: 0.7081879008894344\n",
      "Cost after iteration 9800: 0.7081878948621727\n",
      "Cost after iteration 9900: 0.7081878898527777\n"
     ]
    }
   ],
   "source": [
    "# Running Gradient Descent and printing cost every 100 iterations\n",
    "w, b, cost_history = gradient_descent(w, b, X_standardized, y, num_iterations=10000, learning_rate=0.001, print_cost=True)"
   ]
  },
  {
   "cell_type": "code",
   "execution_count": 45,
   "id": "553a9ffd",
   "metadata": {},
   "outputs": [
    {
     "data": {
      "image/png": "[encoded data removed]",
      "text/plain": [
       "<Figure size 640x480 with 1 Axes>"
      ]
     },
     "metadata": {},
     "output_type": "display_data"
    }
   ],
   "source": [
    "# Plotting the cost function over iterations\n",
    "import matplotlib.pyplot as plt\n",
    "plt.plot(cost_history)\n",
    "plt.xlabel('Iteration')\n",
    "plt.ylabel('Cost')\n",
    "plt.title('Cost Function over Iterations')\n",
    "plt.show()"
   ]
  },
  {
   "cell_type": "code",
   "execution_count": 46,
   "id": "a5b33662",
   "metadata": {},
   "outputs": [
    {
     "name": "stdout",
     "output_type": "stream",
     "text": [
      "Predictions: [3.6407321  0.16099262 0.11810941]\n"
     ]
    }
   ],
   "source": [
    "# Making predictions on new test cases\n",
    "test_cases = np.array([[1, 1, 1], [2, 0, 4], [3, 2, 1]])\n",
    "\n",
    "test_cases_standardized = (test_cases - mean) / std\n",
    "\n",
    "predictions = predict(w, b, test_cases_standardized)\n",
    "\n",
    "print(\"Predictions:\", predictions.flatten())"
   ]
  },
  {
   "cell_type": "code",
   "execution_count": 47,
   "id": "777d6929",
   "metadata": {},
   "outputs": [
    {
     "name": "stdout",
     "output_type": "stream",
     "text": [
      "=== TRAINED LINEAR REGRESSION MODEL ===\n",
      "Final cost: 0.708188\n",
      "Converged after 10000 iterations\n",
      "\n",
      "Learned Parameters:\n",
      "θ₀ (bias/intercept): 1.825574\n",
      "θ₁ (weight for x₁): -2.357661\n",
      "θ₂ (weight for x₂): 0.652698\n",
      "θ₃ (weight for x₃): -0.336882\n",
      "\n",
      "Linear Model Equation:\n",
      "ŷ = 1.825574 + -2.357661*x₁ + 0.652698*x₂ + -0.336882*x₃\n",
      "\n",
      "Note: This model uses standardized features.\n",
      "For predictions on new data, standardize inputs using:\n",
      "x_standardized = (x - mean) / std\n",
      "where mean = [2.02020202 1.98545455 1.97535354]\n",
      "and std = [1.15464163 1.16309378 1.15282576]\n"
     ]
    }
   ],
   "source": [
    "# Final Model Report\n",
    "print(\"=== TRAINED LINEAR REGRESSION MODEL ===\")\n",
    "print(f\"Final cost: {cost_history[-1]:.6f}\")\n",
    "print(f\"Converged after {len(cost_history)} iterations\")\n",
    "print()\n",
    "\n",
    "print(\"Learned Parameters:\")\n",
    "print(f\"θ₀ (bias/intercept): {b:.6f}\")\n",
    "print(f\"θ₁ (weight for x₁): {w[0]:.6f}\")\n",
    "print(f\"θ₂ (weight for x₂): {w[1]:.6f}\")  \n",
    "print(f\"θ₃ (weight for x₃): {w[2]:.6f}\")\n",
    "print()\n",
    "\n",
    "print(\"Linear Model Equation:\")\n",
    "print(f\"ŷ = {b:.6f} + {w[0]:.6f}*x₁ + {w[1]:.6f}*x₂ + {w[2]:.6f}*x₃\")\n",
    "print()\n",
    "\n",
    "print(\"Note: This model uses standardized features.\")\n",
    "print(\"For predictions on new data, standardize inputs using:\")\n",
    "print(f\"x_standardized = (x - mean) / std\")\n",
    "print(f\"where mean = {mean}\")\n",
    "print(f\"and std = {std}\")"
   ]
  },
  {
   "cell_type": "code",
   "execution_count": 48,
   "id": "2b3f73a8",
   "metadata": {},
   "outputs": [
    {
     "name": "stdout",
     "output_type": "stream",
     "text": [
      "\n",
      "=== MODEL ON ORIGINAL SCALE ===\n",
      "Converted Parameters (for un-standardized inputs):\n",
      "θ₀ (intercept): 5.413679\n",
      "θ₁ (weight for x₁): -2.041898\n",
      "θ₂ (weight for x₂): 0.561174\n",
      "θ₃ (weight for x₃): -0.292223\n",
      "\n",
      "Original Scale Model:\n",
      "ŷ = 5.413679 + -2.041898*x₁ + 0.561174*x₂ + -0.292223*x₃\n"
     ]
    }
   ],
   "source": [
    "# Convert coefficients back to original scale\n",
    "w_original = w / std\n",
    "b_original = b - np.sum((mean / std) * w)\n",
    "\n",
    "print(\"\\n=== MODEL ON ORIGINAL SCALE ===\")\n",
    "print(\"Converted Parameters (for un-standardized inputs):\")\n",
    "print(f\"θ₀ (intercept): {b_original:.6f}\")\n",
    "print(f\"θ₁ (weight for x₁): {w_original[0]:.6f}\")\n",
    "print(f\"θ₂ (weight for x₂): {w_original[1]:.6f}\")\n",
    "print(f\"θ₃ (weight for x₃): {w_original[2]:.6f}\")\n",
    "print()\n",
    "print(\"Original Scale Model:\")\n",
    "print(f\"ŷ = {b_original:.6f} + {w_original[0]:.6f}*x₁ + {w_original[1]:.6f}*x₂ + {w_original[2]:.6f}*x₃\")"
   ]
  }
 ],
 "metadata": {
  "kernelspec": {
   "display_name": "base",
   "language": "python",
   "name": "python3"
  },
  "language_info": {
   "codemirror_mode": {
    "name": "ipython",
    "version": 3
   },
   "file_extension": ".py",
   "mimetype": "text/x-python",
   "name": "python",
   "nbconvert_exporter": "python",
   "pygments_lexer": "ipython3",
   "version": "3.12.7"
  }
 },
 "nbformat": 4,
 "nbformat_minor": 5
}
